{
  "cells": [
    {
      "cell_type": "markdown",
      "metadata": {
        "id": "view-in-github",
        "colab_type": "text"
      },
      "source": [
        "<a href=\"https://colab.research.google.com/github/CodeDroidX/image/blob/main/AnyThingAI.ipynb\" target=\"_parent\"><img src=\"https://colab.research.google.com/assets/colab-badge.svg\" alt=\"Open In Colab\"/></a>"
      ]
    },
    {
      "cell_type": "code",
      "execution_count": 2,
      "metadata": {
        "id": "55JIU0Pcho8t",
        "outputId": "17514775-b092-428f-d882-514f7753f94e",
        "colab": {
          "base_uri": "https://localhost:8080/",
          "height": 356
        }
      },
      "outputs": [
        {
          "output_type": "error",
          "ename": "RuntimeError",
          "evalue": "ignored",
          "traceback": [
            "\u001b[0;31m---------------------------------------------------------------------------\u001b[0m",
            "\u001b[0;31mRuntimeError\u001b[0m                              Traceback (most recent call last)",
            "\u001b[0;32m<ipython-input-2-1be7a0740d58>\u001b[0m in \u001b[0;36m<module>\u001b[0;34m\u001b[0m\n\u001b[1;32m     10\u001b[0m \u001b[0;34m\u001b[0m\u001b[0m\n\u001b[1;32m     11\u001b[0m \u001b[0;32mimport\u001b[0m \u001b[0mrandom\u001b[0m\u001b[0;34m\u001b[0m\u001b[0;34m\u001b[0m\u001b[0m\n\u001b[0;32m---> 12\u001b[0;31m \u001b[0;32mimport\u001b[0m \u001b[0mtorch\u001b[0m\u001b[0;34m\u001b[0m\u001b[0;34m\u001b[0m\u001b[0m\n\u001b[0m\u001b[1;32m     13\u001b[0m \u001b[0;32mfrom\u001b[0m \u001b[0mtorch\u001b[0m \u001b[0;32mimport\u001b[0m \u001b[0mautocast\u001b[0m\u001b[0;34m\u001b[0m\u001b[0;34m\u001b[0m\u001b[0m\n\u001b[1;32m     14\u001b[0m \u001b[0;32mimport\u001b[0m \u001b[0mtransformers\u001b[0m\u001b[0;34m\u001b[0m\u001b[0;34m\u001b[0m\u001b[0m\n",
            "\u001b[0;32m/usr/local/lib/python3.8/dist-packages/torch/__init__.py\u001b[0m in \u001b[0;36m<module>\u001b[0;34m\u001b[0m\n\u001b[1;32m    190\u001b[0m     \u001b[0;32mif\u001b[0m \u001b[0mUSE_GLOBAL_DEPS\u001b[0m\u001b[0;34m:\u001b[0m\u001b[0;34m\u001b[0m\u001b[0;34m\u001b[0m\u001b[0m\n\u001b[1;32m    191\u001b[0m         \u001b[0m_load_global_deps\u001b[0m\u001b[0;34m(\u001b[0m\u001b[0;34m)\u001b[0m\u001b[0;34m\u001b[0m\u001b[0;34m\u001b[0m\u001b[0m\n\u001b[0;32m--> 192\u001b[0;31m     \u001b[0;32mfrom\u001b[0m \u001b[0mtorch\u001b[0m\u001b[0;34m.\u001b[0m\u001b[0m_C\u001b[0m \u001b[0;32mimport\u001b[0m \u001b[0;34m*\u001b[0m  \u001b[0;31m# noqa: F403\u001b[0m\u001b[0;34m\u001b[0m\u001b[0;34m\u001b[0m\u001b[0m\n\u001b[0m\u001b[1;32m    193\u001b[0m \u001b[0;34m\u001b[0m\u001b[0m\n\u001b[1;32m    194\u001b[0m \u001b[0;31m# Appease the type checker; ordinarily this binding is inserted by the\u001b[0m\u001b[0;34m\u001b[0m\u001b[0;34m\u001b[0m\u001b[0;34m\u001b[0m\u001b[0m\n",
            "\u001b[0;31mRuntimeError\u001b[0m: KeyboardInterrupt: <EMPTY MESSAGE>"
          ]
        }
      ],
      "source": [
        "%%capture\n",
        "#@title <font color='Orange'>Any</font><font color='Purple'>Thing</font><font color='Red'>AI</font> - подготовка к работе *(~3 мин)*\n",
        "!echo Loading libs...\n",
        "!pip install diffusers\n",
        "!pip install transformers\n",
        "!pip install ftfy\n",
        "!pip install spacy\n",
        "!pip install googletrans==3.1.0a0\n",
        "!pip install accelerate\n",
        "!echo Finished\n",
        "\n",
        "import random\n",
        "import torch\n",
        "from torch import autocast\n",
        "import transformers\n",
        "import googletrans\n",
        "import os\n",
        "\n",
        "t = googletrans.Translator()\n",
        "def english(input_data): return t.translate(input_data,dest=\"en\").text\n",
        "\n",
        "def clean():\n",
        "  import gc\n",
        "  gc.collect()\n",
        "  with torch.no_grad():\n",
        "    torch.cuda.empty_cache()\n",
        "\n",
        "def dummy(images, **kwargs): return images, False\n",
        "def show_images(im):\n",
        "  from IPython.display import Image\n",
        "  from IPython.display import display\n",
        "  images=[]\n",
        "  for i in range(len(im)):\n",
        "    im[i].save(f\"img{i}.png\")\n",
        "    images.append(Image(f'img{i}.png'))\n",
        "  print(f\"Images Generated!!!\\nPlease, wait\\nCOLAB shows them...\")\n",
        "  display(*images)\n",
        "\n",
        "\n",
        "def gen_seed(size=(512,768),seed=123123123):\n",
        "  generator = torch.Generator(device=torch.device(\"cuda\"))\n",
        "  generator = generator.manual_seed(seed)\n",
        "    \n",
        "  image_latents = torch.randn(\n",
        "        (1, pipeline.unet.in_channels, size[1] // 8, size[0] // 8),\n",
        "        generator = generator,\n",
        "        device = torch.device(\"cuda\")\n",
        "  )\n",
        "  return image_latents\n",
        "#Скачивание модели в кэш\n",
        "from diffusers import StableDiffusionPipeline\n",
        "branch_name= \"diffusers\"\n",
        "pipeline = StableDiffusionPipeline.from_pretrained(\"Linaqruf/anything-v3.0\",revision=branch_name, torch_dtype=torch.float16).to(\"cuda\")\n",
        "\n",
        "#Fuck the NSFW filter\n",
        "pipeline.safety_checker = dummy\n",
        "def Txt2Img(prompt,nprompt,size=((512, 512)),guidance_scale=7.5,seed=123):\n",
        "  with autocast(\"cuda\"):\n",
        "    out=pipeline(prompt=prompt,negative_prompt=nprompt,width=size[0], height=size[1],guidance_scale=guidance_scale,latents=gen_seed(size=size,seed=seed)).images\n",
        "  return out\n",
        "\n",
        "def_prompt=  ', symmetric highly detailed eyes, (acrylic painting), hyper detailed, intricate, illustration'\n",
        "def_nprompt= 'lowres, bad anatomy, (bad eyes), bad hands, (((text))), error, missing fingers, extra digit, fewer digits, cropped, worst quality, low quality, normal quality, jpeg artifacts, signature, watermark, username, blurry, '\n",
        "ready=True"
      ]
    },
    {
      "cell_type": "code",
      "execution_count": 2,
      "metadata": {
        "id": "UVqmp2VOi_7P",
        "cellView": "form",
        "outputId": "8284fd76-6440-4c06-a1a0-065703a2189d",
        "colab": {
          "base_uri": "https://localhost:8080/",
          "height": 426
        }
      },
      "outputs": [
        {
          "output_type": "stream",
          "name": "stdout",
          "text": [
            "Подготовьте модель к работе перед запуском генерации!\n"
          ]
        },
        {
          "output_type": "error",
          "ename": "ValueError",
          "evalue": "ignored",
          "traceback": [
            "\u001b[0;31m---------------------------------------------------------------------------\u001b[0m",
            "\u001b[0;31mNameError\u001b[0m                                 Traceback (most recent call last)",
            "\u001b[0;32m<ipython-input-2-30ca3ba71200>\u001b[0m in \u001b[0;36m<module>\u001b[0;34m\u001b[0m\n\u001b[1;32m      2\u001b[0m \u001b[0;34m\u001b[0m\u001b[0m\n\u001b[0;32m----> 3\u001b[0;31m \u001b[0;32mtry\u001b[0m\u001b[0;34m:\u001b[0m\u001b[0mready\u001b[0m\u001b[0;34m==\u001b[0m\u001b[0;32mTrue\u001b[0m\u001b[0;34m\u001b[0m\u001b[0;34m\u001b[0m\u001b[0m\n\u001b[0m\u001b[1;32m      4\u001b[0m \u001b[0;32mexcept\u001b[0m\u001b[0;34m:\u001b[0m\u001b[0;34m\u001b[0m\u001b[0;34m\u001b[0m\u001b[0m\n",
            "\u001b[0;31mNameError\u001b[0m: name 'ready' is not defined",
            "\nDuring handling of the above exception, another exception occurred:\n",
            "\u001b[0;31mValueError\u001b[0m                                Traceback (most recent call last)",
            "\u001b[0;32m<ipython-input-2-30ca3ba71200>\u001b[0m in \u001b[0;36m<module>\u001b[0;34m\u001b[0m\n\u001b[1;32m      4\u001b[0m \u001b[0;32mexcept\u001b[0m\u001b[0;34m:\u001b[0m\u001b[0;34m\u001b[0m\u001b[0;34m\u001b[0m\u001b[0m\n\u001b[1;32m      5\u001b[0m   \u001b[0mprint\u001b[0m\u001b[0;34m(\u001b[0m\u001b[0;34m\"Подготовьте модель к работе перед запуском генерации!\"\u001b[0m\u001b[0;34m)\u001b[0m\u001b[0;34m\u001b[0m\u001b[0;34m\u001b[0m\u001b[0m\n\u001b[0;32m----> 6\u001b[0;31m   \u001b[0;32mraise\u001b[0m \u001b[0mValueError\u001b[0m\u001b[0;34m(\u001b[0m\u001b[0;34m\"AnyThingAI is not ready!\"\u001b[0m\u001b[0;34m)\u001b[0m\u001b[0;34m\u001b[0m\u001b[0;34m\u001b[0m\u001b[0m\n\u001b[0m\u001b[1;32m      7\u001b[0m \u001b[0mdef_seed\u001b[0m\u001b[0;34m=\u001b[0m\u001b[0mrandom\u001b[0m\u001b[0;34m.\u001b[0m\u001b[0mrandint\u001b[0m\u001b[0;34m(\u001b[0m\u001b[0;36m1\u001b[0m\u001b[0;34m,\u001b[0m\u001b[0;36m100000000\u001b[0m\u001b[0;34m)\u001b[0m\u001b[0;34m\u001b[0m\u001b[0;34m\u001b[0m\u001b[0m\n\u001b[1;32m      8\u001b[0m \u001b[0;34m\u001b[0m\u001b[0m\n",
            "\u001b[0;31mValueError\u001b[0m: AnyThingAI is not ready!"
          ]
        }
      ],
      "source": [
        "#@title <font color='Orange'>Г</font><font color='Purple'>е</font><font color='Red'>н</font><font color='Orange'>е</font><font color='Purple'>р</font><font color='Red'>а</font><font color='Orange'>ц</font><font color='Purple'>и</font><font color='Red'>я</font> - *(~25 сек на один арт)*\n",
        "\n",
        "try:ready==True\n",
        "except:\n",
        "  print(\"Подготовьте модель к работе перед запуском генерации!\")\n",
        "  raise ValueError(\"AnyThingAI is not ready!\")\n",
        "def_seed=random.randint(1,100000000)\n",
        "\n",
        "prompt = '\\u0430\\u0440\\u0442 \\u0434\\u0435\\u0432\\u043E\\u0447\\u043A\\u0438 \\u043F\\u0438\\u043B\\u043E\\u0442\\u0430, \\u0410\\u044F\\u043D\\u0430\\u043C\\u0438 \\u0420\\u044D\\u0439, \\u0433\\u043E\\u043B\\u0443\\u0431\\u044B\\u0435 \\u043A\\u043E\\u0440\\u043E\\u0442\\u043A\\u0438\\u0435 \\u0432\\u043E\\u043B\\u043E\\u0441\\u044B, \\u0431\\u0435\\u043B\\u044B\\u0439 \\u043A\\u043E\\u0441\\u0442\\u044E\\u043C' #@param {type:\"string\"}\n",
        "nprompt = '' #@param {type:\"string\"}\n",
        "\n",
        "np,nnp=[],[]\n",
        "for i in prompt.split(\",\"):\n",
        "  np.append(english(i.strip()))\n",
        "for i in nprompt.split(\",\"):\n",
        "  nnp.append(english(i.strip()))\n",
        "prompt,nprompt=\", \".join(np),\", \".join(nnp)\n",
        "\n",
        "auto_optimize_prompts = True #@param {type:\"boolean\"}\n",
        "if auto_optimize_prompts:\n",
        "  nprompt=def_nprompt+nprompt\n",
        "  prompt=prompt+def_prompt\n",
        "\n",
        "#@markdown ---\n",
        "\n",
        "seed=712 #@param {type:\"integer\"}\n",
        "number_of_arts=3 #@param {type:\"integer\"}\n",
        "\n",
        "if seed==0:seed=def_seed\n",
        "\n",
        "#@markdown ---\n",
        "\n",
        "#~25 сек на одно изображение\n",
        "\n",
        "ims=[]\n",
        "for i in range(number_of_arts):\n",
        "  tseed=seed+i\n",
        "  print(f\"Drawing...\")\n",
        "  print(f\"Prompt      : {prompt}\")\n",
        "  print(f\"Anti-Prompt : {nprompt}\")\n",
        "  print(f\"Seed        : {tseed}\")\n",
        "  ims+=Txt2Img(prompt,nprompt,size=(512,768),guidance_scale=7.5,seed=tseed)\n",
        "\n",
        "\n",
        "show_images(ims)"
      ]
    },
    {
      "cell_type": "markdown",
      "source": [
        "---\n",
        "**Внимание!** Модель очень зависима от промптов.\n",
        "\n",
        "Например, две *одинаковые* мегумин\n",
        "\n",
        "`\"art of a witch girl, megumin konosuba, short hair\"`\n",
        "\n",
        "![download](https://user-images.githubusercontent.com/52743561/207110859-151df7aa-7263-4b13-8bf4-21602942c2fc.png)\n",
        "\n",
        "\n",
        "`\"art of a witch girl, megumin konosuba, short hair\" + auto_optimize_prompts`\n",
        "\n",
        "![download](https://user-images.githubusercontent.com/52743561/207111357-77b1331f-b794-42e4-be21-b1a70acb2e8d.png)\n",
        "\n",
        "По сути, я не вносил в `auto_optimize_prompts` изменения размера ее груди или позы.\n",
        "\n",
        "Единственное, что фиксит `auto_optimize_prompts` - это стиль арта и предостерегает нейросеть от частых ошибок, вроде 3 ног у человека или 7 пальцев на руке )\n",
        "\n",
        "Итоговый результат показывает, насколько при работе с Anything очень важен **prompt engineering** и красота арта будет сильно зависеть от вашего запроса!"
      ],
      "metadata": {
        "id": "sCS8kO-zVflt"
      }
    },
    {
      "cell_type": "markdown",
      "source": [
        "# Top Secret Cells"
      ],
      "metadata": {
        "id": "E27m-T74Z_p4"
      }
    },
    {
      "cell_type": "code",
      "source": [
        "#@title <font color='Orange'>Waifu Prompt</font> - ***nsfw*** - конфигуратор для рисования женского тела\n",
        "def_prompt=  ', symmetric highly detailed eyes, (acrylic painting), hyper detailed, intricate, illustration'\n",
        "def_nprompt= 'lowres, bad anatomy, (extra legs), (bad eyes), bad hands, (((text))), error, missing fingers, extra digit, fewer digits, cropped, worst quality, low quality, normal quality, jpeg artifacts, signature, watermark, username, blurry, '\n",
        "\n",
        "boobs = 'average' #@param [\"small\", \"average\", \"big\",\"very big\"]\n",
        "thights = 'slim' #@param [ \"slim\", \"average\", \"fat\",\"very fat\"]\n",
        "erotic = 'not' #@param [\"not\", \"erotic\", \"swimsuit\",\"bikini\", \"upskirt\",\"hentai\"]\n",
        "if erotic!='not':\n",
        "  def_prompt=f\", {erotic}, (sexy)\"+def_prompt\n",
        "if erotic=='hentai':\n",
        "  def_prompt=f\", (hentai), lips, ass, naked girl\"+def_prompt\n",
        "  def_nprompt+=f\"((clothes)), \"\n",
        "\n",
        "if boobs =='small':\n",
        "  def_prompt=f\", teen, small boobs\"+def_prompt\n",
        "  def_nprompt+=f\"(giant boobs), big tits, \"\n",
        "if boobs =='big':\n",
        "  def_prompt=f\", big boobs\"+def_prompt\n",
        "  def_nprompt+=f\"small tits, \"\n",
        "if boobs =='very big':\n",
        "  def_prompt=f\", (very huge boobs)\"+def_prompt\n",
        "  def_nprompt+=f\"(small tits), \"\n",
        "\n",
        "if thights =='slim':\n",
        "  def_prompt=f\", teen, slim thights\"+def_prompt\n",
        "  def_nprompt+=f\"(fat legs), fat thights, \"\n",
        "if thights =='average':\n",
        "  def_nprompt+=f\"fat thights, \"\n",
        "if thights =='big':\n",
        "  def_prompt=f\", fat thights\"+def_prompt\n",
        "  def_nprompt+=f\"slim thights, \"\n",
        "if thights =='very big':\n",
        "  def_prompt=f\", (very fat thights)\"+def_prompt\n",
        "  def_nprompt+=f\"(very slim teenage thights), \"\n",
        "\n",
        "print(\"auto_optimize_prompts перенастроен для работы с тян\")\n"
      ],
      "metadata": {
        "cellView": "form",
        "id": "CBHmeDiznQgf",
        "outputId": "5a3af014-ecec-420e-edb1-61ab3582d2f1",
        "colab": {
          "base_uri": "https://localhost:8080/"
        }
      },
      "execution_count": 53,
      "outputs": [
        {
          "output_type": "stream",
          "name": "stdout",
          "text": [
            "auto_optimize_prompts перенастроен для работы с тян\n"
          ]
        }
      ]
    },
    {
      "cell_type": "code",
      "source": [
        "#@title <font color='White'>Default Prompt</font> - сбросить конфиг на дэфолтный\n",
        "def_prompt=  ', symmetric highly detailed eyes, (acrylic painting), hyper detailed, intricate, illustration'\n",
        "def_nprompt= 'lowres, bad anatomy, (bad eyes), bad hands, (((text))), error, missing fingers, extra digit, fewer digits, cropped, worst quality, low quality, normal quality, jpeg artifacts, signature, watermark, username, blurry, '\n",
        "print(\"auto_optimize_prompts перенастроен на обычную работу\")"
      ],
      "metadata": {
        "cellView": "form",
        "id": "BiwzKu_ErnbN"
      },
      "execution_count": null,
      "outputs": []
    }
  ],
  "metadata": {
    "accelerator": "GPU",
    "colab": {
      "provenance": [],
      "include_colab_link": true
    },
    "gpuClass": "standard",
    "kernelspec": {
      "display_name": "Python 3",
      "name": "python3"
    },
    "language_info": {
      "name": "python"
    }
  },
  "nbformat": 4,
  "nbformat_minor": 0
}