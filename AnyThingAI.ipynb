{
  "cells": [
    {
      "cell_type": "markdown",
      "metadata": {
        "id": "view-in-github",
        "colab_type": "text"
      },
      "source": [
        "<a href=\"https://colab.research.google.com/github/CodeDroidX/image/blob/main/AnyThingAI.ipynb\" target=\"_parent\"><img src=\"https://colab.research.google.com/assets/colab-badge.svg\" alt=\"Open In Colab\"/></a>"
      ]
    },
    {
      "cell_type": "code",
      "execution_count": null,
      "metadata": {
        "id": "55JIU0Pcho8t",
        "cellView": "form"
      },
      "outputs": [],
      "source": [
        "%%capture\n",
        "#@title <font color='Orange'>Any</font><font color='Purple'>Thing</font><font color='Red'>AI</font> - подготовка к работе *(~4 мин)*\n",
        "!echo Loading libs...\n",
        "!pip install diffusers\n",
        "!pip install transformers\n",
        "!pip install ftfy\n",
        "!pip install spacy\n",
        "!pip install googletrans==3.1.0a0\n",
        "!pip install accelerate\n",
        "!echo Finished\n",
        "\n",
        "import random\n",
        "import torch\n",
        "from torch import autocast\n",
        "import transformers\n",
        "import googletrans\n",
        "t = googletrans.Translator()\n",
        "def english(input_data): return t.translate(input_data,dest=\"en\").text\n",
        "\n",
        "def clean():\n",
        "  import gc\n",
        "  gc.collect()\n",
        "  with torch.no_grad():\n",
        "    torch.cuda.empty_cache()\n",
        "\n",
        "def dummy(images, **kwargs): return images, False\n",
        "def show_images(im):\n",
        "  from IPython.display import Image\n",
        "  from IPython.display import display\n",
        "  images=[]\n",
        "  for i in range(len(im)):\n",
        "    im[i].save(f\"img{i}.png\")\n",
        "    images.append(Image(f'img{i}.png'))\n",
        "  display(*images)\n",
        "\n",
        "def download_images(im):\n",
        "  from google.colab import files as FILE\n",
        "  for i in range(len(im)):\n",
        "    im[i].save(f\"img{i}.png\")\n",
        "    FILE.download(f\"img{i}.png\")\n",
        "    os.remove(f\"img{i}.png\")\n",
        "    input(f\"Press Enter, when image {i} downloaded\")\n",
        "\n",
        "def gen_seed(size=(512,768),seed=123123123):\n",
        "  generator = torch.Generator(device=torch.device(\"cuda\"))\n",
        "  generator = generator.manual_seed(seed)\n",
        "    \n",
        "  image_latents = torch.randn(\n",
        "        (1, pipeline.unet.in_channels, size[1] // 8, size[0] // 8),\n",
        "        generator = generator,\n",
        "        device = torch.device(\"cuda\")\n",
        "  )\n",
        "  return image_latents\n",
        "#Скачивание модели в кэш\n",
        "from diffusers import StableDiffusionPipeline\n",
        "branch_name= \"diffusers\"\n",
        "pipeline = StableDiffusionPipeline.from_pretrained(\"Linaqruf/anything-v3.0\",revision=branch_name, torch_dtype=torch.float16).to(\"cuda\")\n",
        "\n",
        "#Fuck the NSFW filter\n",
        "pipeline.safety_checker = dummy\n",
        "def Txt2Img(prompt,nprompt,size=((512, 512)),guidance_scale=7.5,seed=123):\n",
        "  with autocast(\"cuda\"):\n",
        "    out=pipeline(prompt=prompt,negative_prompt=nprompt,width=size[0], height=size[1],guidance_scale=guidance_scale,latents=gen_seed(size=size,seed=seed)).images\n",
        "  return out"
      ]
    },
    {
      "cell_type": "code",
      "execution_count": null,
      "metadata": {
        "id": "UVqmp2VOi_7P",
        "cellView": "form"
      },
      "outputs": [],
      "source": [
        "#@title <font color='Orange'>Г</font><font color='Purple'>е</font><font color='Red'>н</font><font color='Orange'>е</font><font color='Purple'>р</font><font color='Red'>а</font><font color='Orange'>ц</font><font color='Purple'>и</font><font color='Red'>я</font> - *(~25 сек на один арт)*\n",
        "\n",
        "def_prompt=  ', symmetric highly detailed eyes, (acrylic painting), hyper detailed, intricate, illustration'\n",
        "def_nprompt= 'lowres, bad anatomy, (bad eyes), bad hands, (((text))), error, missing fingers, extra digit, fewer digits, cropped, worst quality, low quality, normal quality, jpeg artifacts, signature, watermark, username, blurry, '\n",
        "def_seed=random.randint(1,100000000)\n",
        "\n",
        "prompt = 'art of a witch girl, megumin konosuba, short hair, erotic upskirt, red skirt, panties, ass, view from back, full height view' #@param {type:\"string\"}\n",
        "nprompt = '' #@param {type:\"string\"}\n",
        "prompt=english(prompt)\n",
        "nprompt=english(nprompt)\n",
        "\n",
        "auto_optimize_prompts = True #@param {type:\"boolean\"}\n",
        "if auto_optimize_prompts:\n",
        "  nprompt=def_nprompt+nprompt\n",
        "  prompt=prompt+def_prompt\n",
        "\n",
        "#@markdown ---\n",
        "\n",
        "seed=707 #@param {type:\"integer\"}\n",
        "number_of_arts=1 #@param {type:\"integer\"}\n",
        "\n",
        "if seed==0:seed=def_seed\n",
        "\n",
        "#@markdown ---\n",
        "\n",
        "download_images = True #@param {type:\"boolean\"}\n",
        "#~25 сек на одно изображение\n",
        "\n",
        "ims=[]\n",
        "for i in range(number_of_arts):\n",
        "  tseed=seed+i\n",
        "  print(f\"Drawing...\")\n",
        "  print(f\"Prompt      : {prompt}\")\n",
        "  print(f\"Anti-Prompt : {nprompt}\")\n",
        "  print(f\"Seed        : {tseed}\")\n",
        "  ims+=Txt2Img(prompt,nprompt,size=(512,768),guidance_scale=7.5,seed=tseed)\n",
        "\n",
        "\n",
        "show_images(ims)\n",
        "if download_images:download_images(ims)"
      ]
    },
    {
      "cell_type": "markdown",
      "source": [
        "---\n",
        "**Внимание!** Модель очень зависима от промптов.\n",
        "\n",
        "Например, две *одинаковые* мегумин\n",
        "\n",
        "`\"art of a witch girl, megumin konosuba, short hair\"`\n",
        "\n",
        "![download](https://user-images.githubusercontent.com/52743561/207110859-151df7aa-7263-4b13-8bf4-21602942c2fc.png)\n",
        "\n",
        "\n",
        "`\"art of a witch girl, megumin konosuba, short hair\" + auto_optimize_prompts`\n",
        "\n",
        "![download](https://user-images.githubusercontent.com/52743561/207111357-77b1331f-b794-42e4-be21-b1a70acb2e8d.png)\n",
        "\n",
        "По сути, я не вносил в `auto_optimize_prompts` изменения размера ее груди или позы.\n",
        "\n",
        "Единственное, что фиксит `auto_optimize_prompts` - это стиль арта и предостерегает нейросеть от частых ошибок, вроде 3 ног у человека или 7 пальцев на руке )\n",
        "\n",
        "Итоговый результат показывает, насколько при работе с Anything очень важен **prompt engineering** и красота арта будет сильно зависеть от вашего запроса!"
      ],
      "metadata": {
        "id": "sCS8kO-zVflt"
      }
    }
  ],
  "metadata": {
    "accelerator": "GPU",
    "colab": {
      "provenance": [],
      "authorship_tag": "ABX9TyPVqVpx4RHjBjNxY2Qv3FDV",
      "include_colab_link": true
    },
    "gpuClass": "standard",
    "kernelspec": {
      "display_name": "Python 3",
      "name": "python3"
    },
    "language_info": {
      "name": "python"
    }
  },
  "nbformat": 4,
  "nbformat_minor": 0
}